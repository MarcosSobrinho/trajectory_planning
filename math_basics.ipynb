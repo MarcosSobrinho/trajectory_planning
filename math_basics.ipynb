{
 "cells": [
  {
   "cell_type": "markdown",
   "metadata": {},
   "source": [
    "# Trajectory planning of self driving cars with a continuous method\n",
    "I implement a simple version of the trajectory planning method described in [Trajectory Planning for BERTHA - a Local, Continuous Method](https://pdfs.semanticscholar.org/bdca/7fe83f8444bb4e75402a417053519758d36b.pdf). To make things easier, I only focus on the longitudinal control. This means that I only plan the velocity decomposition of the car. The mathematical basics behind the method are described below. \n",
    "\n",
    "The target of this method is minimizing the cost of a trajectory, given by a cost functional with respect to constraints and thus finding an optimal trajectory. \n",
    "\n",
    "# Cost-functional\n",
    "The desired driving behaviour is described in the functional\n",
    "\n",
    "$$ J(s(t)) = \\frac{1}{2} \\int_{t}^{t+T} w_{v}(v(t) - v_{des})^{2} + w_{a}a(t)^{2} + w_{j}j(t)^{2} dt. $$\n",
    "\n",
    "$v(t)$, $a(t)$ and $j(t)$ describe the velocity, acceleration and jerk of the car. They are related through the planned path coordinate $s(t)$:\n",
    "\n",
    "-\n",
    "$$ v(t) = \\dot{s}(t) = \\frac{d s}{d t}, $$\n",
    "-\n",
    "$$ a(t) = \\ddot{s}(t) =\\frac{d v}{d t}, $$\n",
    "-\n",
    "$$ j(t) = \\dddot{s}(t) = \\frac{d a}{d t}. $$\n",
    "\n",
    "$v_{des}$ is the desired velocity and $T$ is the optimization timespan. $w_{v}$, $w_{v}$ and $w_{v}$ are weights to manually emphasize the importance of each term in respect to the other terms inside the cost functional. \n",
    "\n",
    "# Constraints\n",
    "\n",
    "## Physical constraints\n",
    "A vehicle has a certain velocity and acceleration limit,\n",
    "\n",
    "-\n",
    "$$ v(t) \\le v_{max}, $$\n",
    "-\n",
    "$$ a(t) \\le a_{max}. $$"
   ]
  },
  {
   "cell_type": "markdown",
   "metadata": {},
   "source": [
    "## Obstacle constraints\n",
    "The only obstacles I focus on here are other vehicles, that intersect the self driving cars path. The figure below shows an example. The green vehicle is the self driving car. It's path $s(t)$ is intersected by the red cars path. This is why the red car is a dynamic obstacle. \n",
    "![](img/small.png)"
   ]
  },
  {
   "cell_type": "markdown",
   "metadata": {},
   "source": [
    "The instant when the red car reaches the intersection is referred to as $t_{a}$. The moment when the red car has completely left behind the intersection is referred to as $t_{b}$ with $t_{b} \\ge t_{a}$. This means that the timespan, in which the green vehicle is not allowed to drive trough the intersection is $t_{b} - t_{a}$. The width of the intersection is referred to as $2\\Delta s = s_{b} - s_{a}$ with $s_{b} \\ge s_{a}$.\n",
    "\n",
    "In the diagram below the path-time diagram of the green car is depicted with an optimization timespan of $T=10 s$. In it the red vehicle is represented as a blue rectangle. The coordinates of the corners are: Bottom left $(t_{a}, s_{a})$, top left $(t_{a}, s_{b})$, bottom right $(t_{b}, s_{a})$ and top right $(t_{b}, s_{b})$. "
   ]
  },
  {
   "cell_type": "markdown",
   "metadata": {
    "collapsed": true
   },
   "source": [
    "![](img/raumzeit.png)"
   ]
  },
  {
   "cell_type": "markdown",
   "metadata": {},
   "source": [
    "Since the green vehicles trajectory is not supposed to go through the blue box the resulting obstacle constraint is\n",
    "$$ | s(t) - \\overline{s}| \\ge \\Delta s, \\quad \\in [t_{a}, t_{b}]. $$\n",
    "\n",
    "$\\bar{s}$ is equal to $\\frac{1}{2} (s_{a} + s_{b})$. \n",
    "\n",
    "The obstacle constraint makes the optimization non-convex, which leads to some problems. One of them is that we obtain several (in this case two) local minima. This means that the solution of an optimization can vary with different initializations. In the left diagram below two different initializations are displayed (red and green line). The right diagram shows that the initializations converge differently."
   ]
  },
  {
   "cell_type": "markdown",
   "metadata": {},
   "source": [
    "![](img/initial.png)"
   ]
  },
  {
   "cell_type": "markdown",
   "metadata": {},
   "source": [
    "To find out which of the trajectories is the global optimum, the costs of the trajectories, according to $J(s(t))$ have to be compared. \n",
    "\n",
    "Another way to find the local minima independently of the initialization is to split up the obstacle constraint into two linear constraints and afterwards performing an optimization for each. The linear obstacle constraints are \n",
    "\n",
    "-\n",
    "$$ s(t) \\ge s_{b}, \\quad \\in [t_{a}, t_{b}], $$\n",
    "-\n",
    "$$ s(t) \\le s_{a}, \\quad \\in [t_{a}, t_{b}]. $$\n",
    "\n",
    "The right diagram below shows the first linear constraint and the optimization result. The left diagram shows the second linear constraint and the according optimization result. "
   ]
  },
  {
   "cell_type": "markdown",
   "metadata": {},
   "source": [
    "![](img/konvex.png)"
   ]
  },
  {
   "cell_type": "markdown",
   "metadata": {},
   "source": [
    "This method makes it possible to find all local minima and then find the global minimum by performing a cost comparison with respect to $J(s(t))$."
   ]
  }
 ],
 "metadata": {
  "anaconda-cloud": {},
  "kernelspec": {
   "display_name": "Python [Root]",
   "language": "python",
   "name": "Python [Root]"
  },
  "language_info": {
   "codemirror_mode": {
    "name": "ipython",
    "version": 3
   },
   "file_extension": ".py",
   "mimetype": "text/x-python",
   "name": "python",
   "nbconvert_exporter": "python",
   "pygments_lexer": "ipython3",
   "version": "3.5.2"
  }
 },
 "nbformat": 4,
 "nbformat_minor": 1
}
