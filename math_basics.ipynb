{
 "cells": [
  {
   "cell_type": "markdown",
   "metadata": {},
   "source": [
    "# Trajectory planning of self driving cars with a continuous method\n",
    "I implement a simple version of the trajectory planning method described in [Trajectory Planning for BERTHA - a Local, Continuous Method](https://pdfs.semanticscholar.org/bdca/7fe83f8444bb4e75402a417053519758d36b.pdf). To make things easier, I only focus on the longitudinal control. This means that I only plan the velocity decomposition of the car. The mathematical basics behind the method are described below. \n",
    "\n",
    "The target of this method is minimizing the cost of a trajectory, given by a cost functional with respect to constraints and thus finding an optimal trajectory. \n",
    "\n",
    "# Cost-functional\n",
    "The desired driving behaviour is described in the functional\n",
    "\n",
    "$$ J(x(t)) = \\frac{1}{2} \\int_{t}^{t+T} w_{v}(v(t) - v_{des})^{2} + w_{a}a(t)^{2} + w_{j}j(t)^{2} dt. $$\n",
    "\n",
    "$v(t)$, $a(t)$ and $j(t)$ describe the velocity, acceleration and jerk of the car. They are related through the planned path coordinate $s(t)$:\n",
    "\n",
    "$$ v(t) = \\dot{s}(t) = \\frac{d s}{d t}, $$\n",
    "$$ a(t) = \\ddot{s}(t) =\\frac{d v}{d t}, $$\n",
    "$$ j(t) = \\dddot{s}(t) = \\frac{d a}{d t}. $$\n",
    "\n",
    "$v_{des}$ is the desired velocity and $T$ is the optimization timespan. $w_{v}$, $w_{v}$ and $w_{v}$ are weights to manually emphasize the importance of each term in respect to the other terms inside the cost functional. \n",
    "\n",
    "# Constraints\n",
    "\n",
    "## Physical constraints\n",
    "A vehicle has a certain velocity and acceleration limit,\n",
    "\n",
    "$$ v(t) \\le v_{max}, $$\n",
    "$$ a(t) \\le a_{max}. $$"
   ]
  },
  {
   "cell_type": "markdown",
   "metadata": {},
   "source": [
    "## Obstacle constraints\n",
    "The only obstacles I focus on here are other vehicles, that intersect the self driving cars path. The figure below shows an example. The green vehicle is the self driving car. It's path $s(t)$ is intersected by the red cars path. This is why the red car is a dynamic obstacle. \n",
    "![](img/small.png)"
   ]
  },
  {
   "cell_type": "markdown",
   "metadata": {},
   "source": [
    "In the path-time-diagram of the self driving green car the red car is depicted by the blue box. Here the optimization timespan $T$ is equal to 10 seconds. "
   ]
  },
  {
   "cell_type": "markdown",
   "metadata": {
    "collapsed": true
   },
   "source": [
    "![](img/raumzeit.png)"
   ]
  },
  {
   "cell_type": "markdown",
   "metadata": {},
   "source": [
    "The equations describing the red vehicle are\n",
    "$$ s(t) \\le s_{a}, \\quad \\in [t_{a}, t_{b}], $$\n",
    "$$ s(t) \\ge s_{b}, \\quad \\in [t_{a}, t_{b}]. $$\n",
    "It basically describes that a certain part of green cars path (the intersection) is blocked during a certain time. \n",
    "\n",
    "This formulation makes the optimization non-convex. This leads to some problems. One of them is that we obtain several (in this case two) local minima. The diagram below shows that the trajectories converge in different minima (right diagram), depending on the initializations (left picture). To find the global minimum the costs of the two trajectories have to be compared. "
   ]
  },
  {
   "cell_type": "markdown",
   "metadata": {},
   "source": [
    "![](img/initial.png)"
   ]
  },
  {
   "cell_type": "markdown",
   "metadata": {},
   "source": [
    "One way to make the optimization independent of the initialization is to strech the boarders of the obstacle to plus or minus infinity, as shown in the diagrams below. This leads to two convex spaces. "
   ]
  },
  {
   "cell_type": "markdown",
   "metadata": {},
   "source": [
    "![](img/konvex.png)"
   ]
  },
  {
   "cell_type": "markdown",
   "metadata": {},
   "source": [
    "So to find all local minima of the described problem, two optimizations and a comparison of costs is required. However, if an amount of $N$ obstacles is found in the path-time-diagram $2^{N}$ are neccessary. "
   ]
  }
 ],
 "metadata": {
  "anaconda-cloud": {},
  "kernelspec": {
   "display_name": "Python [Root]",
   "language": "python",
   "name": "Python [Root]"
  },
  "language_info": {
   "codemirror_mode": {
    "name": "ipython",
    "version": 3
   },
   "file_extension": ".py",
   "mimetype": "text/x-python",
   "name": "python",
   "nbconvert_exporter": "python",
   "pygments_lexer": "ipython3",
   "version": "3.5.2"
  }
 },
 "nbformat": 4,
 "nbformat_minor": 1
}
